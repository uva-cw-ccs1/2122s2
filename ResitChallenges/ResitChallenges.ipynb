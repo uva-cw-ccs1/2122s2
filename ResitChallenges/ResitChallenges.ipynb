{
 "cells": [
  {
   "cell_type": "markdown",
   "id": "polar-aging",
   "metadata": {},
   "source": [
    "# Resit for weekly challenges\n",
    "\n",
    "In the resit, you will integrate the knowledge from all programming challenges, focusing on writing functions, data cleaning, data exploration as well as analysis.\n",
    "\n",
    "The resit has three components:\n",
    "1. **Functions**\n",
    "    * Programming: Writing a function that that will include multiple conditions.\n",
    "    * Interpretation: Explaining what you are doing and how the function works. \n",
    "2. **Data cleaning and preparation**\n",
    "    * Programming: Applying multiple data cleaning steps in Python you learned in the tutorial\n",
    "    * Interpretation: Explaining what you are doing and choices made when cleaning the data\n",
    "3. **Data exploration**\n",
    "    * Programming: Applying one of the data exploration and visualisation steps in Python you learned in the tutorial\n",
    "    * Interpretation: Explaining what you are doing and interpreting the results of the data analysis\n",
    "\n",
    "\n",
    "In the resit, we will work with an adjusted version of the dataset we used in week 5. It is a data on U.S. partisan news pages on Facebook. You will analyze if popular pages recieve higher amount of positive reactions on Facebook.\n",
    "\n",
    "\n",
    "## Functions\n",
    "\n",
    "### Programming\n",
    "Below, you can find a list of number of fans of Facebook pages. In this section we want you to:\n",
    "* Write a short description of the data in the list (including at least its length, data types of its elements and average number of fans for a page in this list)\n",
    "* Write a function that would use conditions to classify the pages into two categories:\n",
    "    * Unpopular - less than average number of fans\n",
    "    * Popular - average or higher number of fans\n",
    "* Apply the function to the list to create a new list consisting of the categories popular and unpopular. \n",
    "* Save the new list to a txt file.\n",
    "\n",
    "### Interpretation\n",
    "In your own words, explain what your function does and how you apply it to all elements of the list.\n"
   ]
  },
  {
   "cell_type": "code",
   "execution_count": null,
   "id": "diverse-boost",
   "metadata": {},
   "outputs": [],
   "source": [
    "likes = [674, 764, 88, 7874, 678, 435, 783, 253, 634, 23, 974, 764, 345, 874, 6732, 532, 763, 893, 888, 918]"
   ]
  },
  {
   "cell_type": "code",
   "execution_count": null,
   "id": "guided-worst",
   "metadata": {},
   "outputs": [],
   "source": []
  },
  {
   "cell_type": "markdown",
   "id": "bigger-terrorist",
   "metadata": {},
   "source": [
    "## Data cleaning and preparation\n",
    "\n",
    "### Programming\n",
    "In this folder, you can find two datasets: `engagement_weekly.csv` that includes information on engagement the pages generated and `pages-info.csv` that contains background information on the pages. A more detailed description of the datasets can be found in the challenge for week 5. \n",
    "\n",
    "In this step, we would like you to:\n",
    "* Explore the datasets and the necessary variables. <br>Make sure to at least check how the datasets looks like, what columns they have, what data type these columns have. <br>*Tip: have a look at week 4 for pandas commands useful for exploration.*\n",
    "* Apply the function written in task 1 to the column `fan_count` to create a new column `popularity` that indicates if a page is popular or not.\n",
    "* Merge the two datasets so that you have information on pages and the engagement they generated together. <br> *Tip: do not forget to make sure both datasets have the right keys necessary for merging and that these keys have the appropriate data types. Merging might result in missing values. If that is the case, make sure to deal with them*\n",
    "\n",
    "### Interpretation\n",
    "In your own words, explain what consequences different types of merges would have and how you made a choice for the appropriate merge."
   ]
  },
  {
   "cell_type": "code",
   "execution_count": null,
   "id": "funded-desire",
   "metadata": {},
   "outputs": [],
   "source": []
  },
  {
   "cell_type": "markdown",
   "id": "lesbian-illustration",
   "metadata": {},
   "source": [
    "## Exploration and visualization\n",
    "\n",
    "### Programming\n",
    "In this step we would like you to:\n",
    "* Provide descriptive statistics for number of fans, popularity and one chosen engagement variable (e.g., likes, reactions, comments).\n",
    "* Visualize number of fans, popularity and the chosen engagement variable. <br> *Make sure to choose the appropriate visualisation for the selected variable*\n",
    "* Provide descriptive statistics for the chosen engagement variable for unpopular and popular pages.\n",
    "* Visualize the relationship between popularity (operationalized as a binary variable) and the chosen engagement variable.\n",
    "\n",
    "### Interpretation\n",
    "Interpret the descritpive statistics. Explain your choices for visualizations and interpret the charts."
   ]
  },
  {
   "cell_type": "code",
   "execution_count": null,
   "id": "square-memphis",
   "metadata": {},
   "outputs": [],
   "source": []
  }
 ],
 "metadata": {
  "kernelspec": {
   "display_name": "Python 3",
   "language": "python",
   "name": "python3"
  },
  "language_info": {
   "codemirror_mode": {
    "name": "ipython",
    "version": 3
   },
   "file_extension": ".py",
   "mimetype": "text/x-python",
   "name": "python",
   "nbconvert_exporter": "python",
   "pygments_lexer": "ipython3",
   "version": "3.9.1"
  }
 },
 "nbformat": 4,
 "nbformat_minor": 5
}
