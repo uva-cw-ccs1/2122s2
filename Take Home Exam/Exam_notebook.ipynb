{
 "cells": [
  {
   "cell_type": "markdown",
   "id": "collaborative-community",
   "metadata": {},
   "source": [
    "# Computational communication science 1 - final exam"
   ]
  },
  {
   "cell_type": "markdown",
   "id": "above-reviewer",
   "metadata": {},
   "source": [
    "Student name:\n",
    "\n",
    "Student number:"
   ]
  },
  {
   "cell_type": "markdown",
   "id": "canadian-monaco",
   "metadata": {},
   "source": [
    "Now that you have learned all the necessary basic programming skills in Python, we will ask you to apply them in this exam. The exam will test your understanding of the use programming languages for communication science, your abilities to apply Python to solve programming challenges in the communication science context and your understanding of basic programming solutions in Python.\n",
    "\n",
    "1. You have until 17:00 to finish this assignment. You need to upload the assignment on CANVAS (see https://canvas.uva.nl/courses/29248/assignments/314456?module_item_id=1244038) before 17:00, March 31 2022. If you have not uploaded the exam before the deadline, you have not passed this assignment. \n",
    "2. In case of technical problems, please contact your lecturers via email: j.strycharz@uva.nl or o.denkovski@uva.nl.\n",
    "3. Please note that this is an individual assignment. All rules mentioned in the Regulations Governing Fraud and Plagiarism for UvA Students apply to this examination. The assignment will be checked on plagiarism. Fraud and/or plagiarism will be reported to the Examinations board. Those committing fraud and/or plagiarism, risk exclusion from all examinations for up to 12 months. Also, students who assist cheating or fraud will be penalized.\n",
    "4. You are allowed to use your study materials (e.g., slides, literature, notebooks, solutions to weekly challenges) during the assignment.\n",
    "5. It is strictly forbidden to communicate with other students during the examination.\n",
    "6. When you are finished, double-check whether you answered all questions before uploading the assignment.\n",
    "7. The results will be announced as soon as possible on Canvas.\n",
    "8. Carefully read the instructions and questions in this notebook!\n",
    "\n",
    "General instructions for answering the questions. Please read the instructions carefully:\n",
    "\n",
    "* This take-home Exam for CCS1 consists of a Jupyter Notebook with 3 questions, including sub-questions (a, b, etc.). Read all the questions carefully. Make sure you save the notebook locally before starting to answer the questions. Rename this file according to the following structure: <br>LastName_Surname_StudentID_Coursename\n",
    "* Fill in your name and student number in the indicated space.\n",
    "* To answer the exam questions, write your answers in this notebook where indicated. The word count for the reflection question is a guideline for how lengthy we expect the answer to be. Take this advice seriously (writing a lot more may result in insufficient time to finish the exam). Remaining below or going over the word count will by itself not lead to a deduction of points.\n",
    "* Answer all questions and check upon completion if you really addressed all (sub-)questions.\n",
    "* Use correct and complete sentences. Poorly or unclearly formulated answers will not be graded.\n",
    "* Make sure to answer all questions in your own words.\n",
    "* Do not provide any irrelevant information. If you provide more answers than instructed, only your first answer will be graded. If your correct answer also includes incorrect or irrelevant elements, these will lead to deduction of points.\n",
    "* You can obtain a maximum of 100 points. The points you can obtain for each question are provided at the respective question.\n",
    "* Re-reading full articles, re-watching the lecture or re-doing the challenges during the assignment will not be possible, due to time restrictions. We advise you to use the materials to look up essential coding details.\n",
    "\n",
    "The exam consists of three sections:\n",
    "* Reflection (20% of exam grade): in a short reflection, we ask you to think about the use of programming languages for computational communication science.\n",
    "* Programming 1 (30% of exam grade): in this programming task, we ask you to filter a dictionary and write a new dataset.\n",
    "* Programming 2 (50% of exam grade): in this programming task, we ask you to select one research question and answer it through analysing datasets provided by us.\n",
    "\n",
    "Completing the exam should take you around three hours. Make sure to have a look at the importance of the different sections for your final grade to determine how much time you should give to it. \n",
    "\n",
    "Good luck!\n",
    "<br>\n",
    "<br>\n",
    "\n",
    "## Reflection \n",
    "\n",
    "During the course, you have read multiple articles that discuss the opportunities and challenges that big data and computational methods offer for communication science research. Looking at opportunities and challenges described in van Atteveldt & Peng (2018) please select: \n",
    "1. One of the four opportunities introduced in the article and describe how computational methods and big data have the potential to enhance scientific study of communication. Building on the cases discussed in class, provide at least one concrete example of how big data or computational methods can improve the communication science field. <br>*Hint: thinking of examples consider types of data that can be studied, different types of validity or research practices.*<br>Word count: max. 200 words\n",
    "2. One of the five challenges introduced in the article and describe how computational methods and big data can become pitfalls for scientific study of communication. Building on the cases discussed in class, provide at least one concrete example of how big data or computational methods can pose challenges to the communication science field.<br>*Hint: thinking of examples consider data access, data quality, representativeness, validity, reliability or ethical issues.*<br>Word count: max. 200 words"
   ]
  },
  {
   "cell_type": "markdown",
   "id": "difficult-monitor",
   "metadata": {},
   "source": [
    "# Programming 1\n"
   ]
  },
  {
   "cell_type": "markdown",
   "id": "settled-yukon",
   "metadata": {},
   "source": [
    "The pickle file `exam1.pkl` (or `exam1.json` for a json version) contains a fictional dataset from Spotify's user_table. The dataset contains three characteristics for each Spotify user: \n",
    "\n",
    "* a unique ID for each user\n",
    "* the name of each user\n",
    "* the type of subscription each user has\n",
    "\n",
    "### Programming \n",
    "\n",
    "Your tasks are to: \n",
    "\n",
    "* load the pkl or json file into a dictionary,\n",
    "* filter the dictionary by removing everybody whose ID is larger than 250 and who also has the subscription type A or B,\n",
    "* export the filtered data in a file format that others can use (regardless of the programming language they use).\n",
    "\n",
    "For each step explain what you are doing: before each line of code, add a line in Markdown/#comment that outlines what is being done below.\n",
    "\n",
    "*Hint: There are different ways to solve this task. Excellent solutions should be based on self-written functions.*\n"
   ]
  },
  {
   "cell_type": "code",
   "execution_count": null,
   "id": "blessed-secretary",
   "metadata": {},
   "outputs": [],
   "source": []
  },
  {
   "cell_type": "markdown",
   "id": "subsequent-recall",
   "metadata": {},
   "source": [
    "### Interpretation\n",
    "\n",
    "In the task above, you have used multiple techniques discussed in class. In the cell below, explain how you applied loops, conditions and possibly functions to solve the task, what they exactly do and the logic of their working.\n",
    "\n",
    "*Hint: consider using the print statement within your loops, conditions and functions to be better able to explain the logic of them.*"
   ]
  },
  {
   "cell_type": "code",
   "execution_count": null,
   "id": "refined-yahoo",
   "metadata": {},
   "outputs": [],
   "source": []
  },
  {
   "cell_type": "markdown",
   "id": "disciplinary-ethnic",
   "metadata": {},
   "source": [
    "# Programming 2\n",
    "\n",
    "In the final part of the exam, you will work with a simulated dataset from an NGO that is currently running a communication campaign to increase the amount of donations. The datasets will be used to analyse how much individuals who visit the website donate.\n",
    "\n",
    "### Datasets\n",
    "You will find three files in the exam folder folder (starting with NGO):\n",
    "* **NGO_donations.csv** (or NGO_donations.pkl for a pickle version). This file contains a list of donations made on the website (only sessions during which a donation was made are included). It contains:\n",
    "    * `visit_id` - session ID of the sessions during which the donation was made,\n",
    "    * `user_id` - ID assigned to users who have registered on the page,\n",
    "    * `donation` - this variable indicates if a donation happened (variable takes value 1 if a visitor donated),\n",
    "    * `donation_euro` - how many euros were donated.\n",
    "* **NGO_sessions.csv** (or NGO_sessions.pkl for a pickle version). This file contains a list of all online sessions on the website. For each session, it contains:\n",
    "    * `session_id` - ID of the session on the website, \n",
    "    * `campaign` - this variable indicates if the session started from clicking on a campaign (variable takes value 1 if the session started from a campaign),\n",
    "    * `user_id` - ID assigned to users who have registered on the page.\n",
    "* **NGO_users.csv** (or NGO_users.pkl for a pickle version). This file contains background information shared by the registered users of the website. The visitors could voluntarily provide this information when registering on the website (and not all of them registered). For each user who registered, it contains:\n",
    "    * `id` - ID assigned to visitors who have registered on the page ,\n",
    "    * `year_birth` - year of birth of the visitor.\n",
    "\n",
    "\n",
    "\n",
    "### Research question\n",
    "\n",
    "We ask you to choose one of the following research questions:\n",
    "\n",
    "**Option 1** Looking at all visitors of the page, to what extent does the amount one donates differ between visitors coming from a campaign and visitors not coming from a campaign? \n",
    "<br>*Tip: to assess the effectiveness of the campaign you also need to take into account that some people donated nothing (0 euros) when visiting the website.*\n",
    "\n",
    "**Option 2** Looking at all registered users, to what extent is there a relationship between registered user’s age and the amount they donate? \n",
    "<br>*Tip: to assess who donates how much you need to take into account that some registered users donated nothing (0 euros) when visiting the website.*\n",
    "\n",
    "For each task provided below explain what you are doing: before each line of code, add a line in Markdown/#comment that outlines what is being done below and why.\n",
    "\n",
    "#### Task 1\n",
    "\n",
    "Choose a research question and identify the necessary variables. Load the datasets and initially explore them looking at their columns, data types and missing values.  Write a short summary of the three datasets.\n"
   ]
  },
  {
   "cell_type": "code",
   "execution_count": null,
   "id": "chicken-canvas",
   "metadata": {},
   "outputs": [],
   "source": []
  },
  {
   "cell_type": "markdown",
   "id": "stunning-requirement",
   "metadata": {},
   "source": [
    "#### Task 2\n",
    "Clean and prepare the datasets:\n",
    "   1. Merge two datasets appropriately. Explain your reason for the dataset choice and type of merge as well as its consequences for the number of cases and missing values. <br>*Note: to answer your chosen research questions, you will need to merge two out of the three datasets together, depending on the question you choose* \n",
    "   2. Deal with missing data. Provide a justification for your choices.\n",
    "   3. Prepare necessary variables making sure they have appropriate operationalization and data type."
   ]
  },
  {
   "cell_type": "code",
   "execution_count": null,
   "id": "honey-pittsburgh",
   "metadata": {},
   "outputs": [],
   "source": []
  },
  {
   "cell_type": "markdown",
   "id": "twenty-angle",
   "metadata": {},
   "source": [
    "#### Task 3 \n",
    "\n",
    "Visualize the independent variable in your research question. Explain what type of visualization you choose and why."
   ]
  },
  {
   "cell_type": "code",
   "execution_count": null,
   "id": "secure-twenty",
   "metadata": {},
   "outputs": [],
   "source": []
  },
  {
   "cell_type": "markdown",
   "id": "patient-optimum",
   "metadata": {},
   "source": [
    "#### Task 4\n",
    "\n",
    "Conduct the appropriate statistical test to answer your chosen research question. Justify your test choice and interpret it."
   ]
  },
  {
   "cell_type": "code",
   "execution_count": null,
   "id": "alternate-crest",
   "metadata": {},
   "outputs": [],
   "source": []
  }
 ],
 "metadata": {
  "kernelspec": {
   "display_name": "Python 3 (ipykernel)",
   "language": "python",
   "name": "python3"
  },
  "language_info": {
   "codemirror_mode": {
    "name": "ipython",
    "version": 3
   },
   "file_extension": ".py",
   "mimetype": "text/x-python",
   "name": "python",
   "nbconvert_exporter": "python",
   "pygments_lexer": "ipython3",
   "version": "3.9.7"
  }
 },
 "nbformat": 4,
 "nbformat_minor": 5
}
