{
 "cells": [
  {
   "cell_type": "markdown",
   "id": "determined-rough",
   "metadata": {},
   "source": [
    "# Computational communication science 1 - exam resit"
   ]
  },
  {
   "cell_type": "markdown",
   "id": "important-strength",
   "metadata": {},
   "source": [
    "Student name:\n",
    "\n",
    "Student number:"
   ]
  },
  {
   "cell_type": "markdown",
   "id": "vocal-hometown",
   "metadata": {},
   "source": [
    "In the resit of the final exam we will ask you to apply the skills learned inthe class. The exam will test your understanding of the use programming languages for communication science, your abilities to apply Python to solve programming challenges in the communication science context and your understanding of basic programming solutions in Python.\n",
    "\n",
    "1. You have until 17:00 to finish this assignment. You need to upload the assignment on CANVAS (see https://canvas.uva.nl/courses/29248/assignments/327177) before 17:00, May 12 2022. If you have not uploaded the exam before the deadline, you have not passed this assignment. \n",
    "2. In case of technical problems, please contact your lecturers via email: j.strycharz@uva.nl or o.denkovski@uva.nl.\n",
    "3. Please note that this is an individual assignment. All rules mentioned in the Regulations Governing Fraud and Plagiarism for UvA Students apply to this examination. The assignment will be checked on plagiarism. Fraud and/or plagiarism will be reported to the Examinations board. Those committing fraud and/or plagiarism, risk exclusion from all examinations for up to 12 months. Also, students who assist cheating or fraud will be penalized.\n",
    "4. You are allowed to use your study materials (e.g., slides, literature, notebooks, solutions to weekly challenges) during the assignment.\n",
    "5. It is strictly forbidden to communicate with other students during the examination.\n",
    "6. When you are finished, double-check whether you answered all questions before uploading the assignment.\n",
    "7. The results will be announced as soon as possible on Canvas.\n",
    "8. Carefully read the instructions and questions in this notebook!\n",
    "\n",
    "General instructions for answering the questions. Please read the instructions carefully:\n",
    "\n",
    "* This take-home Resit Exam for CCS1 consists of a Jupyter Notebook with 3 questions, including sub-questions (a, b, etc.). Read all the questions carefully. Make sure you save the notebook locally before starting to answer the questions. Rename this file according to the following structure: <br>LastName_Surname_StudentID_Coursename\n",
    "* Fill in your name and student number in the indicated space.\n",
    "* To answer the exam questions, write your answers in this notebook where indicated. The word count for the reflection question is a guideline for how lengthy we expect the answer to be. Take this advice seriously (writing a lot more may result in insufficient time to finish the exam). Remaining below or going over the word count will by itself not lead to a deduction of points.\n",
    "* Answer all questions and check upon completion if you really addressed all (sub-)questions.\n",
    "* Use correct and complete sentences. Poorly or unclearly formulated answers will not be graded.\n",
    "* Make sure to answer all questions in your own words.\n",
    "* Do not provide any irrelevant information. If you provide more answers than instructed, only your first answer will be graded. If your correct answer also includes incorrect or irrelevant elements, these will lead to deduction of points.\n",
    "* You can obtain a maximum of 100 points. The points you can obtain for each question are provided at the respective question.\n",
    "* Re-reading full articles, re-watching the lecture or re-doing the challenges during the assignment will not be possible, due to time restrictions. We advise you to use the materials to look up essential coding details.\n",
    "\n",
    "Submission instructions:\n",
    "* Please upload the html version of the notebook on Canvas. <br> To do so, when the exam is fully ready (and all the code executed), in Jupyter Lab, select File --> Export Notebook As --> Export Notebook to HTML. An html file will be generated (and probably downloaded to your Downloads folder). Upload this html file to Canvas. This file will be also used for the plagiarism check.\n",
    "* Make sure that the html file is names according to the following structure: <br>LastName_Surname_StudentID_Coursename.html\n",
    "* If you cannot generate an HTML version from your Notebook (if the option disappeared), upload a PDF instead to Canvas. Please email the lecturers about this.\n",
    "\n",
    "The exam consists of three sections:\n",
    "* Reflection (20% of exam grade): in a short reflection, we ask you to think about the use of programming languages for computational communication science.\n",
    "* Programming 1 (30% of exam grade): in this programming task, we ask you to filter a dictionary and write a new dataset.\n",
    "* Programming 2 (50% of exam grade): in this programming task, we ask you to select one research question and answer it through analysing datasets provided by us.\n",
    "\n",
    "Completing the resit exam should take you around three hours. Make sure to have a look at the importance of the different sections for your final grade to determine how much time you should give to it. \n",
    "\n",
    "Good luck!\n",
    "<br>\n",
    "<br>\n",
    "\n",
    "## Reflection \n",
    "\n",
    "During the course, you have read multiple articles that discuss the opportunities and challenges that big data and computational methods offer for communication science research. Looking at opportunities and challenges described in **Martin et al. (2019)** please **select one of the research approaches (observational research, theoretical research, experimental research) and discuss**: \n",
    "1. one opportunity introduced in the article and describe how computational methods and big data have the potential to enhance this research approach. Building on the cases discussed in class, provide at least one concrete example of how big data or computational methods can improve the communication science field in this context. <br>*Hint: thinking of examples consider theories that can be revised, different types of validity, research implications or research practices.*<br>Word count: max. 200 words\n",
    "2. one challenge introduced in the article and describe how computational methods and big data can become pitfalls for this research approach. Building on the cases discussed in class, provide at least one concrete example of how big data or computational methods can pose challenges to the communication science field in this context.<br>*Hint: thinking of examples consider theoretical challenges, data quality, representativeness, validity, reliability or ethical issues.*<br>Word count: max. 200 words"
   ]
  },
  {
   "cell_type": "code",
   "execution_count": null,
   "id": "portable-conference",
   "metadata": {},
   "outputs": [],
   "source": []
  },
  {
   "cell_type": "markdown",
   "id": "metric-dispatch",
   "metadata": {},
   "source": [
    "# Programming 1\n"
   ]
  },
  {
   "cell_type": "markdown",
   "id": "heard-cancer",
   "metadata": {},
   "source": [
    "The pickle file `resit1.pkl` (or `resit1.json` for a json version) contains a fictional dataset from a company's Customer Relationship Management system. The dataset contains three characteristics for each customer: \n",
    "\n",
    "* a unique ID for each customer\n",
    "* the name of each customer\n",
    "* year of registration\n",
    "* customer type (np for non-preferential customers and p or preferential for preferential customers)\n",
    "\n",
    "### Programming \n",
    "\n",
    "Your tasks are to: \n",
    "\n",
    "* load the pkl or json file into a dictionary,\n",
    "* filter the dictionary by removing everybody who **either** registered before 2017 **or** is not a preferential client,\n",
    "* export the filtered data in a file format that only Python users can read.\n",
    "\n",
    "For each step explain what you are doing: before each line of code, add a line in Markdown/#comment that outlines what is being done below.\n",
    "\n",
    "*Hint: There are different ways to solve this task. Excellent solutions should be based on **self-written functions**.*\n"
   ]
  },
  {
   "cell_type": "code",
   "execution_count": null,
   "id": "incoming-audience",
   "metadata": {},
   "outputs": [],
   "source": []
  },
  {
   "cell_type": "markdown",
   "id": "black-basket",
   "metadata": {},
   "source": [
    "### Interpretation\n",
    "\n",
    "In the task above, you have used multiple techniques discussed in class. In the cell below, explain how you applied loops, conditions and possibly functions to solve the task, what they exactly do and the logic of their working.\n",
    "\n",
    "*Hint: consider using the print statement within your loops, conditions and functions to be better able to explain the logic of them.*"
   ]
  },
  {
   "cell_type": "code",
   "execution_count": null,
   "id": "vital-integral",
   "metadata": {},
   "outputs": [],
   "source": []
  },
  {
   "cell_type": "markdown",
   "id": "surrounded-sculpture",
   "metadata": {},
   "source": [
    "# Programming 2\n",
    "\n",
    "In the final part of the resit, you will work with a simulated dataset from a newspaper that is currently running an email campaign to increase income from subscriptions. The datasets will be used to analyse how much individuals who visit the website spend on subscriptions.\n",
    "\n",
    "### Datasets\n",
    "You will find three files in the exam folder folder (starting with News):\n",
    "* **News_subscribe.csv** (or News_subscribe.pkl for a pickle version). This file contains a list of subscritpion sign-ups on the website (only sessions during which the visitor subscribed are included). It contains:\n",
    "    * `visit_id` - session ID of the sessions during which the subscritpion was purchased,\n",
    "    * `user_id` - ID assigned to users who have registered on the page,\n",
    "    * `subscription` - this variable indicates if one subscribed (variable takes value 1 if a visitor subscribed),\n",
    "    * `subscription_amount` - how much one spent on the subscription.\n",
    "* **News_sessions.csv** (or News_sessions.pkl for a pickle version). This file contains a list of all online sessions on the website. For each session, it contains:\n",
    "    * `session_id` - ID of the session on the website, \n",
    "    * `newsletter` - this variable indicates if the session started from the newsletter (variable takes value \"newsletter\" if the session started from a newsletter),\n",
    "    * `user_id` - ID assigned to users who have registered on the page.\n",
    "* **News_registered.csv** (or News_registered.pkl for a pickle version). This file contains background information shared by the registered users of the news website. The visitors could voluntarily provide this information when registering on the website (and not all of them registered). For each user who registered, it contains:\n",
    "    * `id` - ID assigned to visitors who have registered on the page ,\n",
    "    * `other_subscription` - this variable indicates if the visitor has a subscription to another newspaper (variable takes value \"y\" if the registered user has another subscription).\n",
    "\n",
    "\n",
    "\n",
    "### Research question\n",
    "\n",
    "We ask you to choose one of the following research questions:\n",
    "\n",
    "**Option 1** Looking at all visitors of the page, to what extent does the amount one spends on a subscription differ between visitors coming from a newsletter and visitors coming from other sources? \n",
    "<br>*Tip: to assess the effectiveness of the email campaign you also need to take into account that some people did not buy a subscription when visiting the website.*\n",
    "\n",
    "**Option 2** Looking at all registered users, to what extent is there a relationship between having another newspaper subscription and the amount one spends on the subscription? \n",
    "<br>*Tip: to assess who spends how much on the subscription you need to take into account that some registered users visited the website, but did not buy a subscription.*\n",
    "\n",
    "For each task provided below explain what you are doing: before each line of code, add a line in Markdown/#comment that outlines what is being done below and why.\n",
    "\n",
    "#### Task 1\n",
    "\n",
    "Choose a research question and identify the necessary variables. Load the datasets and initially explore them looking at their columns, data types and missing values.  Write a short summary of the three datasets.\n"
   ]
  },
  {
   "cell_type": "code",
   "execution_count": null,
   "id": "previous-military",
   "metadata": {},
   "outputs": [],
   "source": []
  },
  {
   "cell_type": "markdown",
   "id": "representative-diversity",
   "metadata": {},
   "source": [
    "#### Task 2\n",
    "Clean and prepare the datasets:\n",
    "   1. Merge two datasets appropriately. Explain your reason for the dataset choice and type of merge as well as its consequences for the number of cases and missing values. <br>*Note: to answer your chosen research questions, you will need to merge two out of the three datasets together, depending on the question you choose* \n",
    "   2. Deal with missing data. Provide a justification for your choices.\n",
    "   3. Prepare necessary variables making sure they have appropriate operationalization and data type."
   ]
  },
  {
   "cell_type": "code",
   "execution_count": null,
   "id": "dynamic-while",
   "metadata": {},
   "outputs": [],
   "source": []
  },
  {
   "cell_type": "markdown",
   "id": "functioning-carbon",
   "metadata": {},
   "source": [
    "#### Task 3 \n",
    "\n",
    "Visualize the dependent variable in your research question. Explain what type of visualization you choose and why."
   ]
  },
  {
   "cell_type": "code",
   "execution_count": null,
   "id": "amber-recipe",
   "metadata": {},
   "outputs": [],
   "source": []
  },
  {
   "cell_type": "markdown",
   "id": "appointed-convention",
   "metadata": {},
   "source": [
    "#### Task 4\n",
    "\n",
    "Conduct the appropriate statistical test to answer your chosen research question. Justify your test choice and interpret it."
   ]
  },
  {
   "cell_type": "code",
   "execution_count": null,
   "id": "executive-movement",
   "metadata": {},
   "outputs": [],
   "source": []
  }
 ],
 "metadata": {
  "kernelspec": {
   "display_name": "Python 3",
   "language": "python",
   "name": "python3"
  },
  "language_info": {
   "codemirror_mode": {
    "name": "ipython",
    "version": 3
   },
   "file_extension": ".py",
   "mimetype": "text/x-python",
   "name": "python",
   "nbconvert_exporter": "python",
   "pygments_lexer": "ipython3",
   "version": "3.9.1"
  }
 },
 "nbformat": 4,
 "nbformat_minor": 5
}
