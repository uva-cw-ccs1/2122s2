{
 "cells": [
  {
   "cell_type": "markdown",
   "id": "mineral-royalty",
   "metadata": {
    "tags": []
   },
   "source": [
    "## In-class excercises week 7\n",
    "\n",
    "In the final tutorial we will work with two datasets containing digital traces and try to think how to solve questions related to these datasets.\n",
    "Both datasets are fictional datasets from an online service that is currenly running mutliple communication campaigns to attract users to its website. \n",
    "\n",
    "* `da56_sessions.pkl.gz` contains all visits (sessions) to the website. It includes the following columns:\n",
    "    * `session_id` - unique id of the session\n",
    "    * `session_timestamp` - starting time of the session\n",
    "    * `user_agent` - information about the browser from which the session takes place\n",
    "    * `referral` - the website from which the visitor came\n",
    "    * `paid_campaign` - categorical variable indicating the type of paid campaign that the visitor came from (one of four). Nan indicates not coming from a paid campaign. \n",
    "    * `user_id` - if the visitor has an account, their user id is pasted here\n",
    "    \n",
    "* `da56_users.pkl` contains information on registered users of the website. It includes the following columns:\n",
    "    * `id` - unique user id for registered users\n",
    "    * `reg_name` - users' name used for registration\n",
    "    * `age` - users' age provided in the registration\n",
    "    * `registration_date` - registration date\n",
    "    * `initial_referrer` - the website from which this user originally came from when registering\n",
    "    * `preferential_client` -  variable takes value 1 when the user has preferential status\n",
    "    \n",
    "\n",
    "How would you do the following:\n",
    "* Deal with missing values in the dataset? What are my options? What do missings mean?\n",
    "* Merge the two datasets: what are my options? What are the consequenecs of different types of merge for unit of analysis and for missing values?\n",
    "    * Scenario: I want to know if a visitor was a preferential client. What merge type do I need? What do I do with missing values?\n",
    "* Minimize the datasets: what do I need to know? What steps do I need to take?\n",
    "    * Scenario: I am only interested in referrals, type of paid campaign and if visitor was a preferential client. What do I need to do to minimize the data?\n",
    "* Create categorical variables: how do I \"recode\" the exisitng columns? What steps do I need to take?\n",
    "    * Scenario: I want to have a new variable about visits that is binary and tells me if a visitor came to my website from social media (Instagram or Facebook) or not. What column do I need to \"recode\"? How do I do that?"
   ]
  },
  {
   "cell_type": "code",
   "execution_count": 1,
   "id": "uniform-behalf",
   "metadata": {},
   "outputs": [],
   "source": [
    "import pandas as pd"
   ]
  },
  {
   "cell_type": "code",
   "execution_count": 2,
   "id": "regulated-sound",
   "metadata": {},
   "outputs": [],
   "source": [
    "sessions = pd.read_pickle('da56_sessions.pkl.gz')"
   ]
  },
  {
   "cell_type": "code",
   "execution_count": 3,
   "id": "tight-texture",
   "metadata": {},
   "outputs": [],
   "source": [
    "users = pd.read_pickle('da56_users.pkl')"
   ]
  },
  {
   "cell_type": "markdown",
   "id": "1be586b0-2bfd-4554-bd45-9034d6679c57",
   "metadata": {},
   "source": [
    "# Exploring the data sets"
   ]
  },
  {
   "cell_type": "code",
   "execution_count": 4,
   "id": "92fc830a-7a69-4522-be72-d876593b9548",
   "metadata": {},
   "outputs": [
    {
     "data": {
      "text/html": [
       "<div>\n",
       "<style scoped>\n",
       "    .dataframe tbody tr th:only-of-type {\n",
       "        vertical-align: middle;\n",
       "    }\n",
       "\n",
       "    .dataframe tbody tr th {\n",
       "        vertical-align: top;\n",
       "    }\n",
       "\n",
       "    .dataframe thead th {\n",
       "        text-align: right;\n",
       "    }\n",
       "</style>\n",
       "<table border=\"1\" class=\"dataframe\">\n",
       "  <thead>\n",
       "    <tr style=\"text-align: right;\">\n",
       "      <th></th>\n",
       "      <th>id</th>\n",
       "      <th>reg_name</th>\n",
       "      <th>age</th>\n",
       "      <th>registration_date</th>\n",
       "      <th>initial_referrer</th>\n",
       "      <th>preferential_client</th>\n",
       "    </tr>\n",
       "  </thead>\n",
       "  <tbody>\n",
       "    <tr>\n",
       "      <th>0</th>\n",
       "      <td>55885858</td>\n",
       "      <td>Melissa Hanson</td>\n",
       "      <td>21</td>\n",
       "      <td>2019-10-29</td>\n",
       "      <td>instagram.com</td>\n",
       "      <td>NaN</td>\n",
       "    </tr>\n",
       "    <tr>\n",
       "      <th>1</th>\n",
       "      <td>55885859</td>\n",
       "      <td>Danielle Evans</td>\n",
       "      <td>20</td>\n",
       "      <td>2019-11-08</td>\n",
       "      <td>instagram.com</td>\n",
       "      <td>NaN</td>\n",
       "    </tr>\n",
       "    <tr>\n",
       "      <th>2</th>\n",
       "      <td>55885860</td>\n",
       "      <td>Erika Horton</td>\n",
       "      <td>18</td>\n",
       "      <td>2021-01-27</td>\n",
       "      <td>google.com</td>\n",
       "      <td>NaN</td>\n",
       "    </tr>\n",
       "    <tr>\n",
       "      <th>3</th>\n",
       "      <td>55885861</td>\n",
       "      <td>Nicole Campbell</td>\n",
       "      <td>46</td>\n",
       "      <td>2020-06-21</td>\n",
       "      <td>google.com</td>\n",
       "      <td>NaN</td>\n",
       "    </tr>\n",
       "    <tr>\n",
       "      <th>4</th>\n",
       "      <td>55885862</td>\n",
       "      <td>Jessica Sanchez</td>\n",
       "      <td>64</td>\n",
       "      <td>2020-02-15</td>\n",
       "      <td>massey.com</td>\n",
       "      <td>NaN</td>\n",
       "    </tr>\n",
       "  </tbody>\n",
       "</table>\n",
       "</div>"
      ],
      "text/plain": [
       "         id         reg_name  age registration_date initial_referrer  \\\n",
       "0  55885858   Melissa Hanson   21        2019-10-29    instagram.com   \n",
       "1  55885859   Danielle Evans   20        2019-11-08    instagram.com   \n",
       "2  55885860     Erika Horton   18        2021-01-27       google.com   \n",
       "3  55885861  Nicole Campbell   46        2020-06-21       google.com   \n",
       "4  55885862  Jessica Sanchez   64        2020-02-15       massey.com   \n",
       "\n",
       "   preferential_client  \n",
       "0                  NaN  \n",
       "1                  NaN  \n",
       "2                  NaN  \n",
       "3                  NaN  \n",
       "4                  NaN  "
      ]
     },
     "execution_count": 4,
     "metadata": {},
     "output_type": "execute_result"
    }
   ],
   "source": [
    "users.head()"
   ]
  },
  {
   "cell_type": "code",
   "execution_count": 5,
   "id": "antique-defendant",
   "metadata": {},
   "outputs": [
    {
     "data": {
      "text/html": [
       "<div>\n",
       "<style scoped>\n",
       "    .dataframe tbody tr th:only-of-type {\n",
       "        vertical-align: middle;\n",
       "    }\n",
       "\n",
       "    .dataframe tbody tr th {\n",
       "        vertical-align: top;\n",
       "    }\n",
       "\n",
       "    .dataframe thead th {\n",
       "        text-align: right;\n",
       "    }\n",
       "</style>\n",
       "<table border=\"1\" class=\"dataframe\">\n",
       "  <thead>\n",
       "    <tr style=\"text-align: right;\">\n",
       "      <th></th>\n",
       "      <th>session_id</th>\n",
       "      <th>session_timestamp</th>\n",
       "      <th>user_agent</th>\n",
       "      <th>referral</th>\n",
       "      <th>paid_campaign</th>\n",
       "      <th>user_id</th>\n",
       "    </tr>\n",
       "  </thead>\n",
       "  <tbody>\n",
       "    <tr>\n",
       "      <th>0</th>\n",
       "      <td>5555694754</td>\n",
       "      <td>2021-09-20 06:59:09</td>\n",
       "      <td>Mozilla/5.0 (Windows NT 6.2; lo-LA; rv:1.9.1.2...</td>\n",
       "      <td>google.com</td>\n",
       "      <td>1.0</td>\n",
       "      <td>NaN</td>\n",
       "    </tr>\n",
       "    <tr>\n",
       "      <th>1</th>\n",
       "      <td>5555694755</td>\n",
       "      <td>2021-09-23 19:07:17</td>\n",
       "      <td>Mozilla/5.0 (Windows; U; Windows NT 6.0) Apple...</td>\n",
       "      <td>instagram.com</td>\n",
       "      <td>4.0</td>\n",
       "      <td>NaN</td>\n",
       "    </tr>\n",
       "    <tr>\n",
       "      <th>2</th>\n",
       "      <td>5555694756</td>\n",
       "      <td>2021-09-25 14:12:23</td>\n",
       "      <td>Mozilla/5.0 (Android 2.3.6; Mobile; rv:7.0) Ge...</td>\n",
       "      <td>instagram.com</td>\n",
       "      <td>NaN</td>\n",
       "      <td>NaN</td>\n",
       "    </tr>\n",
       "    <tr>\n",
       "      <th>3</th>\n",
       "      <td>5555694757</td>\n",
       "      <td>2021-09-20 11:12:36</td>\n",
       "      <td>Mozilla/5.0 (compatible; MSIE 5.0; Windows NT ...</td>\n",
       "      <td>google.com</td>\n",
       "      <td>NaN</td>\n",
       "      <td>NaN</td>\n",
       "    </tr>\n",
       "    <tr>\n",
       "      <th>4</th>\n",
       "      <td>5555694758</td>\n",
       "      <td>2021-09-24 11:12:22</td>\n",
       "      <td>Opera/9.52.(X11; Linux i686; bho-IN) Presto/2....</td>\n",
       "      <td>google.com</td>\n",
       "      <td>2.0</td>\n",
       "      <td>NaN</td>\n",
       "    </tr>\n",
       "  </tbody>\n",
       "</table>\n",
       "</div>"
      ],
      "text/plain": [
       "   session_id   session_timestamp  \\\n",
       "0  5555694754 2021-09-20 06:59:09   \n",
       "1  5555694755 2021-09-23 19:07:17   \n",
       "2  5555694756 2021-09-25 14:12:23   \n",
       "3  5555694757 2021-09-20 11:12:36   \n",
       "4  5555694758 2021-09-24 11:12:22   \n",
       "\n",
       "                                          user_agent       referral  \\\n",
       "0  Mozilla/5.0 (Windows NT 6.2; lo-LA; rv:1.9.1.2...     google.com   \n",
       "1  Mozilla/5.0 (Windows; U; Windows NT 6.0) Apple...  instagram.com   \n",
       "2  Mozilla/5.0 (Android 2.3.6; Mobile; rv:7.0) Ge...  instagram.com   \n",
       "3  Mozilla/5.0 (compatible; MSIE 5.0; Windows NT ...     google.com   \n",
       "4  Opera/9.52.(X11; Linux i686; bho-IN) Presto/2....     google.com   \n",
       "\n",
       "   paid_campaign user_id  \n",
       "0            1.0     NaN  \n",
       "1            4.0     NaN  \n",
       "2            NaN     NaN  \n",
       "3            NaN     NaN  \n",
       "4            2.0     NaN  "
      ]
     },
     "execution_count": 5,
     "metadata": {},
     "output_type": "execute_result"
    }
   ],
   "source": [
    "sessions.head()"
   ]
  },
  {
   "cell_type": "code",
   "execution_count": 6,
   "id": "769c2d99-e0a4-44c9-ba42-ce20de080621",
   "metadata": {},
   "outputs": [
    {
     "data": {
      "text/plain": [
       "Index(['id', 'reg_name', 'age', 'registration_date', 'initial_referrer',\n",
       "       'preferential_client'],\n",
       "      dtype='object')"
      ]
     },
     "execution_count": 6,
     "metadata": {},
     "output_type": "execute_result"
    }
   ],
   "source": [
    "users.columns"
   ]
  },
  {
   "cell_type": "code",
   "execution_count": 7,
   "id": "d4d29879-6cc2-4d04-884e-eb40887d03f7",
   "metadata": {},
   "outputs": [
    {
     "data": {
      "text/plain": [
       "Index(['session_id', 'session_timestamp', 'user_agent', 'referral',\n",
       "       'paid_campaign', 'user_id'],\n",
       "      dtype='object')"
      ]
     },
     "execution_count": 7,
     "metadata": {},
     "output_type": "execute_result"
    }
   ],
   "source": [
    "sessions.columns"
   ]
  },
  {
   "cell_type": "code",
   "execution_count": 8,
   "id": "3816a7fb-adf9-441a-85d0-962bc4e844e9",
   "metadata": {},
   "outputs": [
    {
     "data": {
      "text/plain": [
       "(50000, 6)"
      ]
     },
     "execution_count": 8,
     "metadata": {},
     "output_type": "execute_result"
    }
   ],
   "source": [
    "sessions.shape"
   ]
  },
  {
   "cell_type": "code",
   "execution_count": 9,
   "id": "9d2cb4ba-ae0a-4e8a-9844-d51c17afd5f4",
   "metadata": {},
   "outputs": [
    {
     "data": {
      "text/plain": [
       "(1000, 6)"
      ]
     },
     "execution_count": 9,
     "metadata": {},
     "output_type": "execute_result"
    }
   ],
   "source": [
    "users.shape"
   ]
  },
  {
   "cell_type": "markdown",
   "id": "b9fe6b58-0630-416d-a0d1-3cfe63668156",
   "metadata": {},
   "source": [
    "# Deal with missing values in the dataset? What are my options? What do missings mean?\n",
    "My options include...\n",
    "- deleting rows with missing values in specific columns\n",
    "- filling them with a value (depending on whether a meaningful replacement is possible)\n",
    "- leaving them in\n",
    "\n",
    "Some missing values in the data set are __meaningful__. For instance, in the __sessions__ data set, the missing values in user_id indicate that these visits were __not from a registered user__. We therefore do not have to delete rows with missing values in this column if we are interested in any visit to the website. "
   ]
  },
  {
   "cell_type": "code",
   "execution_count": 10,
   "id": "dc5fb380-8f11-4af2-8b17-cf11f61de271",
   "metadata": {},
   "outputs": [
    {
     "data": {
      "text/plain": [
       "session_id               0\n",
       "session_timestamp        0\n",
       "user_agent               0\n",
       "referral                 0\n",
       "paid_campaign        21569\n",
       "user_id              34877\n",
       "dtype: int64"
      ]
     },
     "execution_count": 10,
     "metadata": {},
     "output_type": "execute_result"
    }
   ],
   "source": [
    "sessions.isna().sum()"
   ]
  },
  {
   "cell_type": "code",
   "execution_count": 11,
   "id": "fd965444-50fe-4dc5-a304-4a8b46eb65eb",
   "metadata": {},
   "outputs": [
    {
     "data": {
      "text/plain": [
       "id                       0\n",
       "reg_name                 0\n",
       "age                      0\n",
       "registration_date        0\n",
       "initial_referrer         0\n",
       "preferential_client    831\n",
       "dtype: int64"
      ]
     },
     "execution_count": 11,
     "metadata": {},
     "output_type": "execute_result"
    }
   ],
   "source": [
    "users.isna().sum()"
   ]
  },
  {
   "cell_type": "markdown",
   "id": "72435a77-7954-4da1-a76c-e2ee883ff7e0",
   "metadata": {},
   "source": [
    "# Merge the two datasets: what are my options? What are the consequenecs of different types of merge for unit of analysis and for missing values?\n",
    "In the sessions data frame, my units of analysis are visits. In the users data frame, the units of analyses are registrered users.\n",
    "Depending on your research question and the corresponding units of analysis you are interested in, you prioritise one of the dataframes when merging."
   ]
  },
  {
   "cell_type": "markdown",
   "id": "d21e6a08-ec13-4227-afa5-5c8737207116",
   "metadata": {},
   "source": [
    "# Scenario: I want to know if a visitor was a preferential client. What merge type do I need? What do I do with missing values?\n",
    "The unit of analysis is __visits__. Therefore, sessions is my primary dataframe. I will do a left merge with sessions-users to keep all rows in sessions. Notably, the ID keys are named differently in the dataframes: users = 'id', sessions='user_id'.\n",
    "\n",
    "There will be a lot of missings values. The missings in prefernetial client in the user dataframe  can be filled with zero, because we can interpret them as \"not a preferential client\" (based on the dataset description). This also means that all missings in preferential_client in the merged dataframe are __meaningful__, they indicate that the visit is __not from a preferential client__. I will fill them with zero."
   ]
  },
  {
   "cell_type": "code",
   "execution_count": 12,
   "id": "708f7c52-67aa-478b-9edf-7933606b1398",
   "metadata": {},
   "outputs": [
    {
     "data": {
      "text/plain": [
       "(50000, 12)"
      ]
     },
     "execution_count": 12,
     "metadata": {},
     "output_type": "execute_result"
    }
   ],
   "source": [
    "sessions_plus = pd.merge(sessions, users, how=\"left\", left_on=\"user_id\", right_on=\"id\")\n",
    "sessions_plus.shape"
   ]
  },
  {
   "cell_type": "code",
   "execution_count": 13,
   "id": "782bd48a-6890-4ff4-bfd8-7debc81e06fc",
   "metadata": {},
   "outputs": [
    {
     "data": {
      "text/plain": [
       "(50000, 6)"
      ]
     },
     "execution_count": 13,
     "metadata": {},
     "output_type": "execute_result"
    }
   ],
   "source": [
    "# same length as the original sessions data frame\n",
    "sessions.shape"
   ]
  },
  {
   "cell_type": "code",
   "execution_count": 14,
   "id": "14754d1d-5481-46bf-be9d-70cb24612902",
   "metadata": {},
   "outputs": [
    {
     "data": {
      "text/html": [
       "<div>\n",
       "<style scoped>\n",
       "    .dataframe tbody tr th:only-of-type {\n",
       "        vertical-align: middle;\n",
       "    }\n",
       "\n",
       "    .dataframe tbody tr th {\n",
       "        vertical-align: top;\n",
       "    }\n",
       "\n",
       "    .dataframe thead th {\n",
       "        text-align: right;\n",
       "    }\n",
       "</style>\n",
       "<table border=\"1\" class=\"dataframe\">\n",
       "  <thead>\n",
       "    <tr style=\"text-align: right;\">\n",
       "      <th></th>\n",
       "      <th>session_id</th>\n",
       "      <th>session_timestamp</th>\n",
       "      <th>user_agent</th>\n",
       "      <th>referral</th>\n",
       "      <th>paid_campaign</th>\n",
       "      <th>user_id</th>\n",
       "      <th>id</th>\n",
       "      <th>reg_name</th>\n",
       "      <th>age</th>\n",
       "      <th>registration_date</th>\n",
       "      <th>initial_referrer</th>\n",
       "      <th>preferential_client</th>\n",
       "    </tr>\n",
       "  </thead>\n",
       "  <tbody>\n",
       "    <tr>\n",
       "      <th>0</th>\n",
       "      <td>5555694754</td>\n",
       "      <td>2021-09-20 06:59:09</td>\n",
       "      <td>Mozilla/5.0 (Windows NT 6.2; lo-LA; rv:1.9.1.2...</td>\n",
       "      <td>google.com</td>\n",
       "      <td>1.0</td>\n",
       "      <td>NaN</td>\n",
       "      <td>NaN</td>\n",
       "      <td>NaN</td>\n",
       "      <td>NaN</td>\n",
       "      <td>NaN</td>\n",
       "      <td>NaN</td>\n",
       "      <td>NaN</td>\n",
       "    </tr>\n",
       "    <tr>\n",
       "      <th>1</th>\n",
       "      <td>5555694755</td>\n",
       "      <td>2021-09-23 19:07:17</td>\n",
       "      <td>Mozilla/5.0 (Windows; U; Windows NT 6.0) Apple...</td>\n",
       "      <td>instagram.com</td>\n",
       "      <td>4.0</td>\n",
       "      <td>NaN</td>\n",
       "      <td>NaN</td>\n",
       "      <td>NaN</td>\n",
       "      <td>NaN</td>\n",
       "      <td>NaN</td>\n",
       "      <td>NaN</td>\n",
       "      <td>NaN</td>\n",
       "    </tr>\n",
       "    <tr>\n",
       "      <th>2</th>\n",
       "      <td>5555694756</td>\n",
       "      <td>2021-09-25 14:12:23</td>\n",
       "      <td>Mozilla/5.0 (Android 2.3.6; Mobile; rv:7.0) Ge...</td>\n",
       "      <td>instagram.com</td>\n",
       "      <td>NaN</td>\n",
       "      <td>NaN</td>\n",
       "      <td>NaN</td>\n",
       "      <td>NaN</td>\n",
       "      <td>NaN</td>\n",
       "      <td>NaN</td>\n",
       "      <td>NaN</td>\n",
       "      <td>NaN</td>\n",
       "    </tr>\n",
       "    <tr>\n",
       "      <th>3</th>\n",
       "      <td>5555694757</td>\n",
       "      <td>2021-09-20 11:12:36</td>\n",
       "      <td>Mozilla/5.0 (compatible; MSIE 5.0; Windows NT ...</td>\n",
       "      <td>google.com</td>\n",
       "      <td>NaN</td>\n",
       "      <td>NaN</td>\n",
       "      <td>NaN</td>\n",
       "      <td>NaN</td>\n",
       "      <td>NaN</td>\n",
       "      <td>NaN</td>\n",
       "      <td>NaN</td>\n",
       "      <td>NaN</td>\n",
       "    </tr>\n",
       "    <tr>\n",
       "      <th>4</th>\n",
       "      <td>5555694758</td>\n",
       "      <td>2021-09-24 11:12:22</td>\n",
       "      <td>Opera/9.52.(X11; Linux i686; bho-IN) Presto/2....</td>\n",
       "      <td>google.com</td>\n",
       "      <td>2.0</td>\n",
       "      <td>NaN</td>\n",
       "      <td>NaN</td>\n",
       "      <td>NaN</td>\n",
       "      <td>NaN</td>\n",
       "      <td>NaN</td>\n",
       "      <td>NaN</td>\n",
       "      <td>NaN</td>\n",
       "    </tr>\n",
       "  </tbody>\n",
       "</table>\n",
       "</div>"
      ],
      "text/plain": [
       "   session_id   session_timestamp  \\\n",
       "0  5555694754 2021-09-20 06:59:09   \n",
       "1  5555694755 2021-09-23 19:07:17   \n",
       "2  5555694756 2021-09-25 14:12:23   \n",
       "3  5555694757 2021-09-20 11:12:36   \n",
       "4  5555694758 2021-09-24 11:12:22   \n",
       "\n",
       "                                          user_agent       referral  \\\n",
       "0  Mozilla/5.0 (Windows NT 6.2; lo-LA; rv:1.9.1.2...     google.com   \n",
       "1  Mozilla/5.0 (Windows; U; Windows NT 6.0) Apple...  instagram.com   \n",
       "2  Mozilla/5.0 (Android 2.3.6; Mobile; rv:7.0) Ge...  instagram.com   \n",
       "3  Mozilla/5.0 (compatible; MSIE 5.0; Windows NT ...     google.com   \n",
       "4  Opera/9.52.(X11; Linux i686; bho-IN) Presto/2....     google.com   \n",
       "\n",
       "   paid_campaign user_id   id reg_name  age registration_date  \\\n",
       "0            1.0     NaN  NaN      NaN  NaN               NaN   \n",
       "1            4.0     NaN  NaN      NaN  NaN               NaN   \n",
       "2            NaN     NaN  NaN      NaN  NaN               NaN   \n",
       "3            NaN     NaN  NaN      NaN  NaN               NaN   \n",
       "4            2.0     NaN  NaN      NaN  NaN               NaN   \n",
       "\n",
       "  initial_referrer  preferential_client  \n",
       "0              NaN                  NaN  \n",
       "1              NaN                  NaN  \n",
       "2              NaN                  NaN  \n",
       "3              NaN                  NaN  \n",
       "4              NaN                  NaN  "
      ]
     },
     "execution_count": 14,
     "metadata": {},
     "output_type": "execute_result"
    }
   ],
   "source": [
    "sessions_plus.head()"
   ]
  },
  {
   "cell_type": "code",
   "execution_count": 15,
   "id": "16a1ac94-532f-489a-9885-4057fe73417e",
   "metadata": {},
   "outputs": [
    {
     "data": {
      "text/plain": [
       "session_id                 0\n",
       "session_timestamp          0\n",
       "user_agent                 0\n",
       "referral                   0\n",
       "paid_campaign          21569\n",
       "user_id                34877\n",
       "id                     34877\n",
       "reg_name               34877\n",
       "age                    34877\n",
       "registration_date      34877\n",
       "initial_referrer       34877\n",
       "preferential_client    47488\n",
       "dtype: int64"
      ]
     },
     "execution_count": 15,
     "metadata": {},
     "output_type": "execute_result"
    }
   ],
   "source": [
    "sessions_plus.isna().sum()"
   ]
  },
  {
   "cell_type": "code",
   "execution_count": 16,
   "id": "5f7a8421-286b-48c0-a6e8-b044571a16e6",
   "metadata": {},
   "outputs": [
    {
     "data": {
      "text/plain": [
       "session_id               0\n",
       "session_timestamp        0\n",
       "user_agent               0\n",
       "referral                 0\n",
       "paid_campaign        21569\n",
       "user_id              34877\n",
       "dtype: int64"
      ]
     },
     "execution_count": 16,
     "metadata": {},
     "output_type": "execute_result"
    }
   ],
   "source": [
    "# fill NA's in preferential_client with 0. \n",
    "sessions_plus.preferential_client.fillna(0, inplace=True)\n",
    "sessions.isna().sum()"
   ]
  },
  {
   "cell_type": "code",
   "execution_count": 17,
   "id": "6c9b3de0-4eda-41f6-b4a2-36cd166d8337",
   "metadata": {},
   "outputs": [
    {
     "data": {
      "text/plain": [
       "0.0    47488\n",
       "1.0     2512\n",
       "Name: preferential_client, dtype: int64"
      ]
     },
     "execution_count": 17,
     "metadata": {},
     "output_type": "execute_result"
    }
   ],
   "source": [
    "# 2512 visitors are prefernetial clients.\n",
    "sessions_plus.preferential_client.value_counts()"
   ]
  },
  {
   "cell_type": "code",
   "execution_count": 18,
   "id": "963560ca-5c8b-4f51-a25a-33144c964190",
   "metadata": {},
   "outputs": [
    {
     "data": {
      "text/plain": [
       "55886491    27\n",
       "55886625    26\n",
       "55886845    26\n",
       "55886116    26\n",
       "55886018    26\n",
       "            ..\n",
       "55885964     7\n",
       "55886220     7\n",
       "55885858     6\n",
       "55885965     6\n",
       "55886481     6\n",
       "Name: id, Length: 1000, dtype: int64"
      ]
     },
     "execution_count": 18,
     "metadata": {},
     "output_type": "execute_result"
    }
   ],
   "source": [
    "# Note that there are multiple visits from the same id, i.e. clients.\n",
    "sessions_plus.id.value_counts()"
   ]
  },
  {
   "cell_type": "markdown",
   "id": "bf1bc43e-e5f2-4476-9c7f-14582e113843",
   "metadata": {},
   "source": [
    "# Minimize the datasets: what do I need to know? What steps do I need to take?\n",
    "I need to know which which data is essential to my analysis. I want to avoid unnecessarily matching potentially privacy sensitive data. Therefore, I want to merge only those columns that I am interested in."
   ]
  },
  {
   "cell_type": "markdown",
   "id": "c9d7c849-db3b-4212-97fb-eaac9f6db0c7",
   "metadata": {},
   "source": [
    "# Scenario: I am only interested in referrals, type of paid campaign and if visitor was a preferential client. What do I need to do to minimize the data?\n",
    "Referrals and type of paid campaign are columns in the __sessions__ data set. Preferential client is a column in the __users__ data set. We do not need the other data. I will avoid merging these data  by first selecting my columns of interest: id columns (to merge), and columns of interest. "
   ]
  },
  {
   "cell_type": "code",
   "execution_count": 19,
   "id": "459daf3b-b259-4d75-a004-7844cda8501c",
   "metadata": {},
   "outputs": [
    {
     "data": {
      "text/html": [
       "<div>\n",
       "<style scoped>\n",
       "    .dataframe tbody tr th:only-of-type {\n",
       "        vertical-align: middle;\n",
       "    }\n",
       "\n",
       "    .dataframe tbody tr th {\n",
       "        vertical-align: top;\n",
       "    }\n",
       "\n",
       "    .dataframe thead th {\n",
       "        text-align: right;\n",
       "    }\n",
       "</style>\n",
       "<table border=\"1\" class=\"dataframe\">\n",
       "  <thead>\n",
       "    <tr style=\"text-align: right;\">\n",
       "      <th></th>\n",
       "      <th>user_id</th>\n",
       "      <th>referral</th>\n",
       "      <th>paid_campaign</th>\n",
       "      <th>id</th>\n",
       "      <th>preferential_client</th>\n",
       "    </tr>\n",
       "  </thead>\n",
       "  <tbody>\n",
       "    <tr>\n",
       "      <th>0</th>\n",
       "      <td>NaN</td>\n",
       "      <td>google.com</td>\n",
       "      <td>1.0</td>\n",
       "      <td>NaN</td>\n",
       "      <td>NaN</td>\n",
       "    </tr>\n",
       "    <tr>\n",
       "      <th>1</th>\n",
       "      <td>NaN</td>\n",
       "      <td>instagram.com</td>\n",
       "      <td>4.0</td>\n",
       "      <td>NaN</td>\n",
       "      <td>NaN</td>\n",
       "    </tr>\n",
       "    <tr>\n",
       "      <th>2</th>\n",
       "      <td>NaN</td>\n",
       "      <td>instagram.com</td>\n",
       "      <td>NaN</td>\n",
       "      <td>NaN</td>\n",
       "      <td>NaN</td>\n",
       "    </tr>\n",
       "    <tr>\n",
       "      <th>3</th>\n",
       "      <td>NaN</td>\n",
       "      <td>google.com</td>\n",
       "      <td>NaN</td>\n",
       "      <td>NaN</td>\n",
       "      <td>NaN</td>\n",
       "    </tr>\n",
       "    <tr>\n",
       "      <th>4</th>\n",
       "      <td>NaN</td>\n",
       "      <td>google.com</td>\n",
       "      <td>2.0</td>\n",
       "      <td>NaN</td>\n",
       "      <td>NaN</td>\n",
       "    </tr>\n",
       "  </tbody>\n",
       "</table>\n",
       "</div>"
      ],
      "text/plain": [
       "  user_id       referral  paid_campaign   id  preferential_client\n",
       "0     NaN     google.com            1.0  NaN                  NaN\n",
       "1     NaN  instagram.com            4.0  NaN                  NaN\n",
       "2     NaN  instagram.com            NaN  NaN                  NaN\n",
       "3     NaN     google.com            NaN  NaN                  NaN\n",
       "4     NaN     google.com            2.0  NaN                  NaN"
      ]
     },
     "execution_count": 19,
     "metadata": {},
     "output_type": "execute_result"
    }
   ],
   "source": [
    "# left merge, prioritising sessions\n",
    "# slice data frames that I want to merge, keeping only user_id, referral and paid_campaign from sessions, keeping only id and preferental_client from users\n",
    "sessions_min = pd.merge(sessions[['user_id', 'referral', 'paid_campaign']], users[['id', 'preferential_client']], how='left', \n",
    "                         left_on='user_id', right_on='id')\n",
    "sessions_min.head()"
   ]
  },
  {
   "cell_type": "code",
   "execution_count": 20,
   "id": "65ac8306-4734-4d71-9e11-f4a609649507",
   "metadata": {},
   "outputs": [
    {
     "data": {
      "text/plain": [
       "(50000, 5)"
      ]
     },
     "execution_count": 20,
     "metadata": {},
     "output_type": "execute_result"
    }
   ],
   "source": [
    "sessions_min.shape"
   ]
  },
  {
   "cell_type": "markdown",
   "id": "fe13b868-88c3-47ad-a3a2-6a66a8321671",
   "metadata": {},
   "source": [
    "# Create categorical variables: how do I \"recode\" the exisitng columns? What steps do I need to take?\n",
    "We can recode numerical or categorical variables by writing a function that is applied to each row of a dataframe. \n",
    "First, we need to explore the data I want to \"recode\". How does it look like?\n",
    "Second, we need to write a function that takes a value or string as input. \n",
    "Third, we need to apply this to a specific column of the dataframe."
   ]
  },
  {
   "cell_type": "markdown",
   "id": "aa8f7ba6-c475-414b-8d8b-ac9e2a16361a",
   "metadata": {},
   "source": [
    "# Scenario: I want to have a new variable about visits that is binary and tells me if a visitor came to my website from social media (Instagram or Facebook) or not. What column do I need to \"recode\"? How do I do that?\n",
    "This information is __referral__ column of the sessions data set. After exploring how these columns look like, I noticed instagram.com and facebook.com. I want to make a function that takes a string (the website) as input, and I use conditional statements. If 'facebook' or 'instagram' is in the string, then return 1 (social media), else return 0 (other website). I apply this function to the referral column, and make a new column containing these binary labels."
   ]
  },
  {
   "cell_type": "code",
   "execution_count": 21,
   "id": "42041b0b-ea61-4faa-a52f-0deb5b7046bc",
   "metadata": {},
   "outputs": [
    {
     "data": {
      "text/plain": [
       "google.com              11168\n",
       "instagram.com           11136\n",
       "facebook.com            10938\n",
       "smith.com                 135\n",
       "johnson.com               104\n",
       "                        ...  \n",
       "newton-stewart.org          1\n",
       "vance-anderson.com          1\n",
       "valencia-stevens.com        1\n",
       "townsend.net                1\n",
       "morales-patel.com           1\n",
       "Name: referral, Length: 8630, dtype: int64"
      ]
     },
     "execution_count": 21,
     "metadata": {},
     "output_type": "execute_result"
    }
   ],
   "source": [
    "# explore how the referral column looks like\n",
    "sessions.referral.value_counts()"
   ]
  },
  {
   "cell_type": "code",
   "execution_count": 22,
   "id": "6d781233-ef24-48b3-bcfd-92a9a10d0357",
   "metadata": {},
   "outputs": [
    {
     "data": {
      "text/plain": [
       "session_id                   object\n",
       "session_timestamp    datetime64[ns]\n",
       "user_agent                   object\n",
       "referral                     object\n",
       "paid_campaign               float64\n",
       "user_id                      object\n",
       "dtype: object"
      ]
     },
     "execution_count": 22,
     "metadata": {},
     "output_type": "execute_result"
    }
   ],
   "source": [
    "sessions.dtypes"
   ]
  },
  {
   "cell_type": "code",
   "execution_count": 23,
   "id": "8977c150-a742-4e79-a16a-e9f9d042a5c0",
   "metadata": {},
   "outputs": [],
   "source": [
    "# write a function that categorizes websites into social media or not.\n",
    "def social_media(website): # the function expects a string as argument\n",
    "    if 'facebook' in website or 'instagram' in website: # is 'facebook' or 'instagram' in the string, then return 1\n",
    "        return 1 \n",
    "    else: # all other cases return 1\n",
    "        return 0"
   ]
  },
  {
   "cell_type": "code",
   "execution_count": 24,
   "id": "61b71865-9a22-41ef-8c61-68bbbc587d40",
   "metadata": {},
   "outputs": [
    {
     "data": {
      "text/plain": [
       "0    27926\n",
       "1    22074\n",
       "Name: social_media_ref, dtype: int64"
      ]
     },
     "execution_count": 24,
     "metadata": {},
     "output_type": "execute_result"
    }
   ],
   "source": [
    "# make a new column 'social_media_ref' (1 = referral from social media, 0 = other website)\n",
    "sessions['social_media_ref'] = sessions['referral'].apply(social_media)\n",
    "sessions.social_media_ref.value_counts()"
   ]
  },
  {
   "cell_type": "code",
   "execution_count": null,
   "id": "1f2d0387-1e69-4295-93d1-f05ea880af8d",
   "metadata": {},
   "outputs": [],
   "source": []
  }
 ],
 "metadata": {
  "kernelspec": {
   "display_name": "Python 3",
   "language": "python",
   "name": "python3"
  },
  "language_info": {
   "codemirror_mode": {
    "name": "ipython",
    "version": 3
   },
   "file_extension": ".py",
   "mimetype": "text/x-python",
   "name": "python",
   "nbconvert_exporter": "python",
   "pygments_lexer": "ipython3",
   "version": "3.8.2"
  }
 },
 "nbformat": 4,
 "nbformat_minor": 5
}
