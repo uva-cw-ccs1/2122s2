{
 "cells": [
  {
   "cell_type": "markdown",
   "id": "nutritional-converter",
   "metadata": {},
   "source": [
    "# Warm-up excercises week 6\n",
    "\n",
    "Now that you have seen how to communicate with basic APIs, it's time for you to combine apply this knowledge. To prepare for the tutorial, we ask you to complete two warm-up excercises.\n",
    "\n",
    "\n",
    "Some important notes for the excercises:\n",
    "\n",
    "* These excercises are a warming up meant to help you get ready for class. Make sure to give them a try on all of them. If you get an error message, try to troubleshoot it (using Google often helps). If all else fails, go to the next excercise (but make sure to hand it in).\n",
    "* While we of course like when you get all the answers right, the important thing is to exercise and apply the knowledge. So we will still accept solutions that may not be complete, as long as we see enough effort for each excercise. \n",
    "* Delivering the warm-up excercises on time is critical, as it helps also prepare for the tutorial session.\n",
    "* As these excercises are meant to help you participate in the tutorial and us to make sure you can get as much as possible from the tutorials, we do not expect perfect answers. However, this is important to show the effort you have put in the excercises and what obstacles you faced."
   ]
  },
  {
   "cell_type": "markdown",
   "id": "bright-jumping",
   "metadata": {},
   "source": []
  },
  {
   "cell_type": "markdown",
   "id": "supposed-priest",
   "metadata": {},
   "source": [
    "# Excercise 1\n",
    "\n",
    "1. During the lecture, we broke down our interaction with the datamuse API. The documentation for this API is available here https://www.datamuse.com/api/. Use another operation discussed in class  offered by this API apart from the ones we interacted with in the lecture. \n",
    "2. Explain the meaning of the http response code you received. \n",
    "3. Some of the endpoint return values which allow you to subset your data. For instance, rel_rhy return the rhyming word, as well as it's \"rhyming score\". We could use the rhyming score to create a dataframe with only the most \"strongly rhyming words\". Get a part of your data (API response) into a dataframe based on criteria of your choosing."
   ]
  },
  {
   "cell_type": "code",
   "execution_count": null,
   "id": "thousand-flower",
   "metadata": {},
   "outputs": [],
   "source": []
  },
  {
   "cell_type": "markdown",
   "id": "allied-large",
   "metadata": {},
   "source": [
    "# Excercise 2\n",
    "\n",
    "1. Use the API snippet from The Guardian provided in the lecture, and the documentation available here https://open-platform.theguardian.com/documentation/, to create a custom query from the Guardian of your choosing. To complete this excercise, your custom query must return at least 20 rows of data. Use the API credential (key) provided in the function in the lecture notebook. If you receive an error regarding a conflciting query occuring at the same time, try to run the snippet again until you establish a succesful connection with the API/get a succesful response. \n",
    "2. Conduct a basic exploratory analysis to explore what columns the dataset has, how many articles you retreived, and in what sections of the website they were published. \n",
    "3. Play around with the webPublicationDate column which shows when the articles from your query were published. The column is NOT datetime and needs to be. Transform to datetime to visualise or otherwise informatively count the number of articles published on a particular date. "
   ]
  },
  {
   "cell_type": "code",
   "execution_count": null,
   "id": "induced-calibration",
   "metadata": {},
   "outputs": [],
   "source": []
  }
 ],
 "metadata": {
  "kernelspec": {
   "display_name": "Python 3 (ipykernel)",
   "language": "python",
   "name": "python3"
  },
  "language_info": {
   "codemirror_mode": {
    "name": "ipython",
    "version": 3
   },
   "file_extension": ".py",
   "mimetype": "text/x-python",
   "name": "python",
   "nbconvert_exporter": "python",
   "pygments_lexer": "ipython3",
   "version": "3.9.7"
  }
 },
 "nbformat": 4,
 "nbformat_minor": 5
}
