{
 "cells": [
  {
   "cell_type": "markdown",
   "metadata": {},
   "source": [
    "# Warm-up exercises week 4\n",
    "\n",
    "\n",
    "Now that you have some expereince with for loops and control flow in Python, it's time for you to combine and apply this knowledge. To prepare for the tutorial, complete the following two warm-up exercises. \n",
    "\n",
    "Some important notes for the exercises:\n",
    "\n",
    "* These exercises are a warming up meant to help you get ready for class. Make sure to give them a try on all of them. If you get an error message, try to troubleshoot it (using Google often helps). If all else fails, go to the next exercise (but make sure to hand it in).\n",
    "* While we of course like when you get all the answers right, the important thing is to practice and apply the knowledge. So we will still accept solutions that may not be complete, as long as we see enough effort for each excercise.\n",
    "* Delivering the warm-up exercises on time is critical, as it helps also prepare for the tutorial session. \n",
    "* As these excercises are meant to help you participate in the tutorial and us to make sure you can get as much as possible from the tutorials, we do not expect perfect answers. However, this is important to show the effort you have put in the exercises and what obstacles you faced."
   ]
  },
  {
   "cell_type": "markdown",
   "metadata": {},
   "source": [
    "# Exercise 1\n",
    "\n",
    "\n",
    "* For the first excercise, we'll use a popular example dataset within data analysis/science circles. The dataset, called **iris**, contains data about flowers, and was first introduced by the British statistician and biologist Ronald Fisher in 1936. \n",
    "\n",
    "* We can use pandas, which you learned about this week, to load iris directly from Github (as we can do for other .csv files floating around the internet). Pandas can even be used to directly read html_tables from places like Wikipedia, but more on that in your [own time](https://pbpython.com/pandas-html-table.html).  \n",
    "\n",
    "\n",
    "* Check if the iris dataset contains missing values, check all column types and print all column names. If the dataset contains missing values, drop those rows before proceeding. \n",
    "\n",
    "* Calculate the average petal_length and petal_width for each species. Make sure to use the methods to group the dataset shown in class to make your code efficient\n",
    "\n"
   ]
  },
  {
   "cell_type": "code",
   "execution_count": null,
   "metadata": {},
   "outputs": [],
   "source": [
    "import pandas as pd\n",
    "iris = pd.read_csv(\"https://raw.githubusercontent.com/mwaskom/seaborn-data/master/iris.csv\")\n",
    "\n",
    "#missing values, column types and priting column names \n",
    "iris.dtypes \n",
    "iris.isna().sum()\n",
    "iris.columns"
   ]
  },
  {
   "cell_type": "markdown",
   "metadata": {},
   "source": [
    "# Exercise 2\n",
    "\n",
    "\n",
    "* Create a smaller dataset, called setosa, consisting only of observations from the setosa species. \n",
    "\n",
    "* Output full descriptive statistics for the sepal_length and sepal_width in the newly created setosa dataset.\n",
    "\n",
    "* Drop all rows with a sepal_length (should have been petal_length) lower than the dataset average.\n"
   ]
  },
  {
   "cell_type": "code",
   "execution_count": null,
   "metadata": {},
   "outputs": [],
   "source": [
    "#subsetting\n",
    "setosa = iris[iris['species']=='setosa']\n",
    "setosa.head()"
   ]
  },
  {
   "cell_type": "code",
   "execution_count": null,
   "metadata": {},
   "outputs": [],
   "source": [
    "#full descriptive stats for the two columns\n",
    "setosa[['sepal_width', 'petal_length']].describe()"
   ]
  },
  {
   "cell_type": "code",
   "execution_count": null,
   "metadata": {},
   "outputs": [],
   "source": [
    "#subsetting based on petal_length\n",
    "setosa_smaller = setosa[setosa['petal_length'] < 50]\n",
    "setosa_smaller.head()"
   ]
  }
 ],
 "metadata": {
  "kernelspec": {
   "display_name": "Python 3 (ipykernel)",
   "language": "python",
   "name": "python3"
  },
  "language_info": {
   "codemirror_mode": {
    "name": "ipython",
    "version": 3
   },
   "file_extension": ".py",
   "mimetype": "text/x-python",
   "name": "python",
   "nbconvert_exporter": "python",
   "pygments_lexer": "ipython3",
   "version": "3.9.7"
  }
 },
 "nbformat": 4,
 "nbformat_minor": 4
}
